{
 "cells": [
  {
   "cell_type": "markdown",
   "id": "7643d738-a948-40b1-87ba-9144461abe86",
   "metadata": {},
   "source": [
    "# Final Assignment- Data Science Tools\n",
    "## Objective:\n",
    "\n",
    "    In this final assignment you will import a notebook into Watson Studio, modify it, run it, and share it with your peers to be graded.\n"
   ]
  },
  {
   "cell_type": "code",
   "execution_count": null,
   "id": "bd5ceb45-5ec6-497e-a373-e136049a6fe2",
   "metadata": {},
   "outputs": [],
   "source": []
  }
 ],
 "metadata": {
  "kernelspec": {
   "display_name": "Python 3 (ipykernel)",
   "language": "python",
   "name": "python3"
  },
  "language_info": {
   "codemirror_mode": {
    "name": "ipython",
    "version": 3
   },
   "file_extension": ".py",
   "mimetype": "text/x-python",
   "name": "python",
   "nbconvert_exporter": "python",
   "pygments_lexer": "ipython3",
   "version": "3.8.10"
  }
 },
 "nbformat": 4,
 "nbformat_minor": 5
}
