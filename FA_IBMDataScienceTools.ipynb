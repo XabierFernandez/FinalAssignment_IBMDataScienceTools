{
 "cells": [
  {
   "cell_type": "markdown",
   "metadata": {},
   "source": [
    "<center>\n",
    "    <img src=\"https://s3-api.us-geo.objectstorage.softlayer.net/cf-courses-data/CognitiveClass/Logos/organization_logo/organization_logo.png\" width=\"300\" alt=\"cognitiveclass.ai logo\"  />\n",
    "</center>\n",
    "\n",
    "# Final Assessment - Growth of Corona\n",
    "\n",
    "## Objectives\n",
    "\n",
    "After completing this lab you will be able to:\n",
    "\n",
    "-   Be confident about your machine learning skills\n"
   ]
  },
  {
   "cell_type": "markdown",
   "metadata": {},
   "source": [
    "Welcome to the final assigment. Please import this notebook into IBM Watson Studio. This Notebook displays growth of Corona cases. Please change the Country to anything other than \"United_States_of_America\". A list of available countries is given in the next cell. You can change the country in the cell after the next cell. Once finished, please share the notebook for grading.\n"
   ]
  },
  {
   "cell_type": "code",
   "execution_count": 1,
   "metadata": {},
   "outputs": [
    {
     "data": {
      "text/plain": [
       "array(['Afghanistan', 'Angola', 'Albania', 'Andorra', 'Argentina',\n",
       "       'Antigua_and_Barbuda', 'Algeria', 'Armenia', 'Aruba', 'Australia',\n",
       "       'Austria', 'Azerbaijan', 'Bahamas', 'Bahrain', 'Bangladesh',\n",
       "       'Barbados', 'Belarus', 'Belgium', 'Belize', 'Benin', 'Bermuda',\n",
       "       'Bhutan', 'Bolivia', 'Bosnia_and_Herzegovina', 'Brazil',\n",
       "       'Brunei_Darussalam', 'Bulgaria', 'Burkina_Faso', 'Cambodia',\n",
       "       'Cameroon', 'Canada', 'Cape_Verde',\n",
       "       'Cases_on_an_international_conveyance_Japan', 'Cayman_Islands',\n",
       "       'Central_African_Republic', 'Chad', 'Chile', 'China', 'Colombia',\n",
       "       'Congo', 'Costa_Rica', 'Cote_dIvoire', 'Croatia', 'Cuba',\n",
       "       'Curaçao', 'Cyprus', 'Czech_Republic',\n",
       "       'Democratic_Republic_of_the_Congo', 'Denmark', 'Djibouti',\n",
       "       'Dominica', 'Dominican_Republic', 'Ecuador', 'Egypt',\n",
       "       'El_Salvador', 'Equatorial_Guinea', 'Eritrea', 'Estonia',\n",
       "       'Eswatini', 'Ethiopia', 'Faroe_Islands', 'Fiji', 'Finland',\n",
       "       'France', 'French_Polynesia', 'Gabon', 'Gambia', 'Georgia',\n",
       "       'Germany', 'Ghana', 'Gibraltar', 'Greece', 'Greenland', 'Grenada',\n",
       "       'Guam', 'Guatemala', 'Guernsey', 'Guinea', 'Guyana', 'Haiti',\n",
       "       'Holy_See', 'Honduras', 'Hungary', 'Iceland', 'India', 'Indonesia',\n",
       "       'Iran', 'Iraq', 'Ireland', 'Isle_of_Man', 'Israel', 'Italy',\n",
       "       'Jamaica', 'Japan', 'Jersey', 'Jordan', 'Kazakhstan', 'Kenya',\n",
       "       'Kosovo', 'Kuwait', 'Kyrgyzstan', 'Laos', 'Latvia', 'Lebanon',\n",
       "       'Liberia', 'Libya', 'Liechtenstein', 'Lithuania', 'Luxembourg',\n",
       "       'Madagascar', 'Malaysia', 'Maldives', 'Mali', 'Malta',\n",
       "       'Mauritania', 'Mauritius', 'Mexico', 'Moldova', 'Monaco',\n",
       "       'Mongolia', 'Montenegro', 'Montserrat', 'Morocco', 'Mozambique',\n",
       "       'Myanmar', 'Namibia', 'Nepal', 'Netherlands', 'New_Caledonia',\n",
       "       'New_Zealand', 'Nicaragua', 'Niger', 'Nigeria', 'North_Macedonia',\n",
       "       'Norway', 'Oman', 'Pakistan', 'Palestine', 'Panama',\n",
       "       'Papua_New_Guinea', 'Paraguay', 'Peru', 'Philippines', 'Poland',\n",
       "       'Portugal', 'Qatar', 'Romania', 'Russia', 'Rwanda',\n",
       "       'Saint_Kitts_and_Nevis', 'Saint_Lucia',\n",
       "       'Saint_Vincent_and_the_Grenadines', 'San_Marino', 'Saudi_Arabia',\n",
       "       'Senegal', 'Serbia', 'Seychelles', 'Singapore', 'Sint_Maarten',\n",
       "       'Slovakia', 'Slovenia', 'Somalia', 'South_Africa', 'South_Korea',\n",
       "       'Spain', 'Sri_Lanka', 'Sudan', 'Suriname', 'Sweden', 'Switzerland',\n",
       "       'Syria', 'Taiwan', 'Thailand', 'Timor_Leste', 'Togo',\n",
       "       'Trinidad_and_Tobago', 'Tunisia', 'Turkey',\n",
       "       'Turks_and_Caicos_islands', 'Uganda', 'Ukraine',\n",
       "       'United_Arab_Emirates', 'United_Kingdom',\n",
       "       'United_Republic_of_Tanzania', 'United_States_of_America',\n",
       "       'United_States_Virgin_Islands', 'Uruguay', 'Uzbekistan',\n",
       "       'Venezuela', 'Vietnam', 'Zambia', 'Zimbabwe'], dtype=object)"
      ]
     },
     "execution_count": 1,
     "metadata": {},
     "output_type": "execute_result"
    }
   ],
   "source": [
    "import pandas as pd\n",
    "import seaborn as sns\n",
    "\n",
    "url = 'https://www.ecdc.europa.eu/sites/default/files/documents/COVID-19-geographic-disbtribution-worldwide-2020-03-26.xlsx'\n",
    "df_raw = pd.read_excel(url)\n",
    "\n",
    "df_raw['Countries and territories'].unique()"
   ]
  },
  {
   "cell_type": "code",
   "execution_count": 2,
   "metadata": {},
   "outputs": [],
   "source": [
    "df = df_raw\n",
    "\n",
    "##df = df[df['Countries and territories']=='United_States_of_America']\n",
    "## I have changed the country to Serbia and commented the original code to select USA.\n",
    "df = df[df['Countries and territories']=='Serbia']\n",
    "\n",
    "df = df.sort_values(['Year', 'Month' ,'Day'], ascending=[1, 1, 1])\n",
    "\n",
    "df['ts'] = pd.to_datetime(df[['Year', 'Month' ,'Day']])\n",
    "\n"
   ]
  },
  {
   "cell_type": "code",
   "execution_count": 3,
   "metadata": {},
   "outputs": [
    {
     "name": "stderr",
     "output_type": "stream",
     "text": [
      "/tmp/ipykernel_23012/422082607.py:2: UserWarning: FixedFormatter should only be used together with FixedLocator\n",
      "  chart.set_xticklabels(df['ts'],rotation=45)\n"
     ]
    },
    {
     "data": {
      "text/plain": [
       "[Text(18328.0, 0, '2020-03-07 00:00:00'),\n",
       " Text(18330.0, 0, '2020-03-11 00:00:00'),\n",
       " Text(18332.0, 0, '2020-03-12 00:00:00'),\n",
       " Text(18334.0, 0, '2020-03-13 00:00:00'),\n",
       " Text(18336.0, 0, '2020-03-14 00:00:00'),\n",
       " Text(18338.0, 0, '2020-03-15 00:00:00'),\n",
       " Text(18340.0, 0, '2020-03-16 00:00:00'),\n",
       " Text(18342.0, 0, '2020-03-17 00:00:00'),\n",
       " Text(18344.0, 0, '2020-03-18 00:00:00'),\n",
       " Text(18346.0, 0, '2020-03-19 00:00:00')]"
      ]
     },
     "execution_count": 3,
     "metadata": {},
     "output_type": "execute_result"
    },
    {
     "data": {
      "image/png": "[encoded data removed]",
      "text/plain": [
       "<Figure size 432x288 with 1 Axes>"
      ]
     },
     "metadata": {
      "needs_background": "light"
     },
     "output_type": "display_data"
    }
   ],
   "source": [
    "chart = sns.lineplot(x='ts', y='Cases', data=df, hue='Countries and territories')\n",
    "chart.set_xticklabels(df['ts'],rotation=45)\n",
    "\n",
    "\n"
   ]
  },
  {
   "cell_type": "markdown",
   "metadata": {},
   "source": [
    "### Thank you for completing this lab!\n",
    "\n",
    "## Author\n",
    "\n",
    "Romeo Kienzler\n",
    "\n",
    "## Other Contributors\n",
    "\n",
    "Lavanya\n",
    "\n",
    "## Change Log\n",
    "\n",
    "| Date (YYYY-MM-DD) | Version | Changed By | Change Description                 |\n",
    "| ----------------- | ------- | ---------- | ---------------------------------- |\n",
    "| 2020-09-01        | 2.0     | Lavanya    | Moved lab to course repo in GitLab |\n",
    "\n",
    "<hr>\n",
    "\n",
    "## <h3 align=\"center\"> © IBM Corporation 2020. All rights reserved. <h3/>\n"
   ]
  }
 ],
 "metadata": {
  "kernelspec": {
   "display_name": "Python 3 (ipykernel)",
   "language": "python",
   "name": "python3"
  },
  "language_info": {
   "codemirror_mode": {
    "name": "ipython",
    "version": 3
   },
   "file_extension": ".py",
   "mimetype": "text/x-python",
   "name": "python",
   "nbconvert_exporter": "python",
   "pygments_lexer": "ipython3",
   "version": "3.8.10"
  }
 },
 "nbformat": 4,
 "nbformat_minor": 4
}
